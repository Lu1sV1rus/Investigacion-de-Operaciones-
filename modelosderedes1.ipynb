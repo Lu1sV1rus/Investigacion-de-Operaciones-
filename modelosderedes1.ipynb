{
  "nbformat": 4,
  "nbformat_minor": 0,
  "metadata": {
    "colab": {
      "provenance": [],
      "authorship_tag": "ABX9TyNTOOIf41DEmQYMMj/b0l6y",
      "include_colab_link": true
    },
    "kernelspec": {
      "name": "python3",
      "display_name": "Python 3"
    },
    "language_info": {
      "name": "python"
    }
  },
  "cells": [
    {
      "cell_type": "markdown",
      "metadata": {
        "id": "view-in-github",
        "colab_type": "text"
      },
      "source": [
        "<a href=\"https://colab.research.google.com/github/Lu1sV1rus/Investigacion-de-Operaciones-/blob/main/modelosderedes1.ipynb\" target=\"_parent\"><img src=\"https://colab.research.google.com/assets/colab-badge.svg\" alt=\"Open In Colab\"/></a>"
      ]
    },
    {
      "cell_type": "markdown",
      "source": [
        "<p><font size=\"6\">\n",
        "Dibujo de Redes\n",
        "</p><p><font color=\"skyblue\" size=\"5\">&nbsp;&nbsp;\n",
        "Usando networkx.\n",
        "</p></font>\n",
        "\n",
        "---"
      ],
      "metadata": {
        "id": "KRFeIpiafDfF"
      }
    },
    {
      "cell_type": "markdown",
      "source": [
        "<p><font color=\"navyblue\" size=\"5\">&nbsp;&nbsp;\n",
        "Paso 1)</font></p>\n",
        "<p><font color=\"navyblue\" size=\"4\">&nbsp;&nbsp;&nbsp;&nbsp;\n",
        "Importamos la libreria\n",
        "</font> <font size=\"4\">\n",
        "networkx<font color=\"navyblue\">\n",
        "y la renombramos como\n",
        "</font><font size=\"4\">nx</font></p>\n",
        "\n",
        "<p><font size=\"3\">&nbsp;&nbsp;&nbsp;&nbsp;&nbsp;&nbsp;&nbsp;&nbsp;import llama a la libreria\n",
        "</p></font>\n",
        "<p><font size=\"3\">&nbsp;&nbsp;&nbsp;&nbsp;&nbsp;&nbsp;&nbsp;&nbsp;\n",
        "as funciona como una etiqueta\n",
        "</p></font>"
      ],
      "metadata": {
        "id": "XLzP9peahPYe"
      }
    },
    {
      "cell_type": "code",
      "execution_count": null,
      "metadata": {
        "colab": {
          "base_uri": "https://localhost:8080/"
        },
        "id": "FokpHy4YXbge",
        "outputId": "6073649b-a666-4884-8c77-5ecf77175466"
      },
      "outputs": [
        {
          "output_type": "stream",
          "name": "stdout",
          "text": [
            "Se ha importado\n"
          ]
        }
      ],
      "source": [
        "import networkx as nx\n",
        "# as nos permite renombrar la libreria,\n",
        "# un nombre corto nos sirve para invocar mas rapido a la libreria\n",
        "#Usamos el print para confirmar que se cargo la libreria\n",
        "print(\"Se ha importado\")"
      ]
    },
    {
      "cell_type": "markdown",
      "source": [
        "<p><font color=\"lime\" size=\"5\">&nbsp;&nbsp;Paso 2)</font></p>\n",
        "\n",
        "<p><font color=\"lime\" size=\"4\">&nbsp;&nbsp;&nbsp;&nbsp;\n",
        "Iniciamos creando un grafo digido usando la libreria\n",
        "</font><font size=\"4\">nx.DiGraph</p></font>\n",
        "\n",
        "<p><font color=\"lime\" size=\"4\">&nbsp;&nbsp;&nbsp;&nbsp;&nbsp;&nbsp;\n",
        "Lo guardamos en una varible </font><font size=\"4\">G</p></font>\n",
        "\n",
        "<p><font size=\"3\">&nbsp;&nbsp;&nbsp;&nbsp;&nbsp;&nbsp;&nbsp;&nbsp;\n",
        "Un grafo dirido contiene las flechas que reflejan el flujo en cada arco\n",
        "</font></p>"
      ],
      "metadata": {
        "id": "DmunkufVqtKM"
      }
    },
    {
      "cell_type": "code",
      "source": [
        "G=nx.DiGraph()\n",
        "#Usamos el print para confirmar que se ha creado el grafo\n",
        "print(\"Se ha creado el grafo\")"
      ],
      "metadata": {
        "id": "MiUTzBmkXrS3",
        "colab": {
          "base_uri": "https://localhost:8080/"
        },
        "outputId": "ee979979-3589-4499-c16c-085a45bd130f"
      },
      "execution_count": null,
      "outputs": [
        {
          "output_type": "stream",
          "name": "stdout",
          "text": [
            "Se ha creado el grafo\n"
          ]
        }
      ]
    },
    {
      "cell_type": "markdown",
      "source": [
        "<p><font color=\"lime\" size=\"4\">&nbsp;&nbsp;&nbsp;&nbsp;Agregamos los nodos y los arcos </font><font size=\"4\">G.add_edge(\"H\",\"K\",capacity=N)</p>\n",
        "\n",
        "<p><font color=\"lime\" size=\"4\">\n",
        "&nbsp;&nbsp;&nbsp;&nbsp;\n",
        "La nomenclatura</font><font size=\"3\">\n",
        "</p><p>&nbsp;&nbsp;&nbsp;&nbsp;&nbsp;&nbsp;&nbsp;&nbsp;\n",
        "G.add_edge() nos permite agregar arcos al grafo\n",
        "</p><p>&nbsp;&nbsp;&nbsp;&nbsp;&nbsp;&nbsp;&nbsp;&nbsp;\n",
        "\"H\" es el nombre del nodo \"inicial\"\n",
        "</p><p>&nbsp;&nbsp;&nbsp;&nbsp;&nbsp;&nbsp;&nbsp;&nbsp;\n",
        "\"K\" es el nombre del nodo \"final\"\n",
        "</p><p>&nbsp;&nbsp;&nbsp;&nbsp;&nbsp;&nbsp;&nbsp;&nbsp;\n",
        "\"N\" es el flujo que tendra el arco de \"H\" a \"K\"</p>"
      ],
      "metadata": {
        "id": "A9quUw9uq4dq"
      }
    },
    {
      "cell_type": "code",
      "source": [
        "#G.add_edge(\"H\",\"K\",capacity=N)\n",
        "G.add_edge(\"A\",\"C\",capacity=2)\n",
        "# Hemos creado un arco que va de A a C, con una capacidad de 2\n",
        "nx.draw_networkx(G, node_color =\"lime\")"
      ],
      "metadata": {
        "id": "LT_8jZjHZtNv",
        "colab": {
          "base_uri": "https://localhost:8080/",
          "height": 406
        },
        "outputId": "c1993478-460e-40b9-f5b6-aee9864413f2"
      },
      "execution_count": null,
      "outputs": [
        {
          "output_type": "display_data",
          "data": {
            "text/plain": [
              "<Figure size 640x480 with 1 Axes>"
            ],
            "image/png": "[encoded data removed]"
          },
          "metadata": {}
        }
      ]
    },
    {
      "cell_type": "code",
      "source": [
        "# Agregamos mas arcos, para expandir la red\n",
        "G.add_edge(\"A\",\"B\",capacity=2)\n",
        "G.add_edge(\"B\",\"C\",capacity=2)\n",
        "G.add_edge(\"B\",\"D\",capacity=2)\n",
        "G.add_edge(\"C\",\"D\",capacity=2)\n",
        "#Usamos el print para confirmar que se han agradado los nodos\n",
        "print(\"Se han agrado mas nodos\")"
      ],
      "metadata": {
        "colab": {
          "base_uri": "https://localhost:8080/"
        },
        "id": "nz-kRyZmn4vq",
        "outputId": "ef280799-3907-44c0-ca75-3bf507b09342"
      },
      "execution_count": null,
      "outputs": [
        {
          "output_type": "stream",
          "name": "stdout",
          "text": [
            "Se han agrado mas nodos\n"
          ]
        }
      ]
    },
    {
      "cell_type": "markdown",
      "source": [
        "<p><font color=\"orange\" size=\"5\">&nbsp;&nbsp;Paso 3)</font></p>\n",
        "<p><font color=\"orange\" size=\"4\">&nbsp;&nbsp;&nbsp;&nbsp;\n",
        "Finalmente Graficamos la Red </font><font size=\"4\">nx.draw_networkx(G, node_color =\"orange\")</p>\n",
        "\n",
        "<p><font color=\"orange\" size=\"4\">\n",
        "&nbsp;&nbsp;&nbsp;&nbsp;\n",
        "La nomenclatura</font><font size=\"3\">\n",
        "</p><p>&nbsp;&nbsp;&nbsp;&nbsp;&nbsp;&nbsp;&nbsp;&nbsp;\n",
        "nx.draw_networkx() Llamamos la libreria e indicamos que grafique la red\n",
        "</p><p>&nbsp;&nbsp;&nbsp;&nbsp;&nbsp;&nbsp;&nbsp;&nbsp;\n",
        "G es el nombre de la red que queremos graficar\n",
        "</p><p>&nbsp;&nbsp;&nbsp;&nbsp;&nbsp;&nbsp;&nbsp;&nbsp;\n",
        "node_color =\"orange\" cambia el color de los nodos\"</p>\n"
      ],
      "metadata": {
        "id": "td3rGR_jrkhW"
      }
    },
    {
      "cell_type": "code",
      "source": [
        "# El apartado de draw sirve para dibujar como su nombre indica\n",
        "# debido a que es uno didirigo tenemos flechas\n",
        "nx.draw_networkx(G, node_color =\"orange\")\n",
        "  # el color de los nodos es \"orange\" Naranja"
      ],
      "metadata": {
        "colab": {
          "base_uri": "https://localhost:8080/",
          "height": 406
        },
        "id": "w24dl5YPafsG",
        "outputId": "3973d695-7261-4233-d9e5-f4099fa0112c"
      },
      "execution_count": null,
      "outputs": [
        {
          "output_type": "display_data",
          "data": {
            "text/plain": [
              "<Figure size 640x480 with 1 Axes>"
            ],
            "image/png": "[encoded data removed]"
          },
          "metadata": {}
        }
      ]
    },
    {
      "cell_type": "markdown",
      "source": [
        "<p><font color=\"pink\" size=\"5\">&nbsp;&nbsp;\n",
        "Datos que podemos obtener gracias a usar networkx\n",
        "</font></p><p><font size=\"3\">&nbsp;&nbsp;&nbsp;&nbsp;&nbsp;&nbsp;\n",
        "Recordatorio</p><p>&nbsp;&nbsp;&nbsp;&nbsp;&nbsp;&nbsp;&nbsp;&nbsp;\n",
        "nx es la libreria</p><p>&nbsp;&nbsp;&nbsp;&nbsp;&nbsp;&nbsp;&nbsp;&nbsp;\n",
        "G es la red de donde se obtendra la lista</p><p>\n",
        "<font color=\"pink\" size=\"4\">&nbsp;&nbsp;&nbsp;&nbsp;Lista de nodos </font> <font size=\"4\">nx.nodes()</p><p>\n",
        "<font color=\"pink\" size=\"4\">&nbsp;&nbsp;&nbsp;&nbsp;Lista de arcos </font><font size=\"4\">nx.edges()</p>\n",
        "\n"
      ],
      "metadata": {
        "id": "o8ekAoTZr6Zg"
      }
    },
    {
      "cell_type": "code",
      "source": [
        "#Imprimo la lista de los nodos que contiene la red\n",
        "print(\"Lista de Nodos que contiene la red: \",nx.nodes(G),\"\\n\")\n",
        "\n",
        "#Imprimo la lista de arcos que contiene la red\n",
        "print(\"Lista de Arcos: \",nx.edges(G))"
      ],
      "metadata": {
        "colab": {
          "base_uri": "https://localhost:8080/"
        },
        "id": "Wl1-flDcsPfR",
        "outputId": "006d943c-2449-4aaa-d90b-5cdadcc633ab"
      },
      "execution_count": null,
      "outputs": [
        {
          "output_type": "stream",
          "name": "stdout",
          "text": [
            "Lista de Nodos que contiene la red:  ['A', 'C', 'B', 'D'] \n",
            "\n",
            "Lista de Arcos:  [('A', 'C'), ('A', 'B'), ('C', 'D'), ('B', 'C'), ('B', 'D')]\n"
          ]
        }
      ]
    },
    {
      "cell_type": "markdown",
      "source": [
        "<p><font size=\"3\">\n",
        "&nbsp;&nbsp;&nbsp;&nbsp;&nbsp;&nbsp;Recordatorio</p><p>\n",
        "&nbsp;&nbsp;&nbsp;&nbsp;&nbsp;&nbsp;&nbsp;&nbsp;G es la red de donde se obtendra la lista</p>\n",
        "\n",
        "<p><font color=\"pink\" size=\"4\">&nbsp;&nbsp;&nbsp;&nbsp;Lista de nodos </font> <font size=\"4\">G.nodes()</p>\n",
        "\n",
        "<p><font color=\"pink\" size=\"4\">&nbsp;&nbsp;&nbsp;&nbsp;Lista de arcos </font><font size=\"4\">G.edges()</p>"
      ],
      "metadata": {
        "id": "73m6Zr65rjXT"
      }
    },
    {
      "cell_type": "code",
      "source": [
        "#Uso list para el formato de la impresion\n",
        "#Imprimo la lista de los nodos que contiene la red\n",
        "print(\"Lista de Nodos que contiene la red: \", list(G.nodes()))\n",
        "\n",
        "#Imprimo la lista de arcos que contiene la red\n",
        "print(\"Lista de Arcos: \", list(G.edges()))"
      ],
      "metadata": {
        "colab": {
          "base_uri": "https://localhost:8080/"
        },
        "id": "lXrM6ucvrm78",
        "outputId": "f1cd0137-6b6f-4e86-be5c-89d4c5e31685"
      },
      "execution_count": null,
      "outputs": [
        {
          "output_type": "stream",
          "name": "stdout",
          "text": [
            "Lista de Nodos que contiene la red:  ['A', 'C', 'B', 'D']\n",
            "Lista de Arcos:  [('A', 'C'), ('A', 'B'), ('C', 'D'), ('B', 'C'), ('B', 'D')]\n"
          ]
        }
      ]
    },
    {
      "cell_type": "markdown",
      "source": [
        "<p><font color=\"pink\" size=\"4\">&nbsp;&nbsp;&nbsp;&nbsp;Numero de nodos </font> <font size=\"4\">G.number_of_nodes()</p>\n",
        "\n",
        "<p><font color=\"pink\" size=\"4\">&nbsp;&nbsp;&nbsp;&nbsp;Numero de arcos </font><font size=\"4\">G.number_of_edges()</p>"
      ],
      "metadata": {
        "id": "fNxrQYoPsLnK"
      }
    },
    {
      "cell_type": "code",
      "source": [
        "#Uso int para el formato numerico de la impresion\n",
        "#Imprimo el numero de nodos\n",
        "print(\"Total de nodes: \", int(G.number_of_nodes()))\n",
        "\n",
        "#Imprimo el numero de arcos\n",
        "print(\"Total de edges: \", int(G.number_of_edges()))"
      ],
      "metadata": {
        "colab": {
          "base_uri": "https://localhost:8080/"
        },
        "id": "pu3_O1eKsP0N",
        "outputId": "cbb74eb7-0e44-421c-add0-88e0b3f59f14"
      },
      "execution_count": null,
      "outputs": [
        {
          "output_type": "stream",
          "name": "stdout",
          "text": [
            "Total de nodes:  4\n",
            "Total de edges:  5\n"
          ]
        }
      ]
    },
    {
      "cell_type": "markdown",
      "source": [
        "<p><font color=\"pink\" size=\"4\">&nbsp;&nbsp;&nbsp;&nbsp;Entradas de los nodos </font> <font size=\"4\">G.in_degree()</p>\n",
        "\n",
        "<p><font color=\"pink\" size=\"4\">&nbsp;&nbsp;&nbsp;&nbsp;Salidas de los nodos </font><font size=\"4\">G.out_degree()</p>"
      ],
      "metadata": {
        "id": "xyXKxbLotbNu"
      }
    },
    {
      "cell_type": "code",
      "source": [
        "#Uso dict para el formato de la impresion\n",
        "#Imprimo las entradas de los nodos\n",
        "print(\"Entradas de los nodos: \", dict(G.in_degree()))\n",
        "\n",
        "#Imprimo las salidas de los nodos\n",
        "print(\"Salidas de los nodos: \", dict(G.out_degree))"
      ],
      "metadata": {
        "colab": {
          "base_uri": "https://localhost:8080/"
        },
        "id": "NSQJaGjKb1IJ",
        "outputId": "1e978f8f-5c82-4d33-c53a-2bebef2000c3"
      },
      "execution_count": null,
      "outputs": [
        {
          "output_type": "stream",
          "name": "stdout",
          "text": [
            "Entradas de los nodos:  {'A': 0, 'C': 2, 'B': 1, 'D': 2}\n",
            "Salidas de los nodos:  {'A': 2, 'C': 1, 'B': 2, 'D': 0}\n"
          ]
        }
      ]
    },
    {
      "cell_type": "markdown",
      "source": [
        "</p><font color=\"pink\" size=\"4\">&nbsp;&nbsp;Para un nodo en especifico</font></p>\n",
        "</p><font size=\"3\">\n",
        "&nbsp;&nbsp;&nbsp;&nbsp;&nbsp;&nbsp;Recordatorio</p><p>\n",
        "&nbsp;&nbsp;&nbsp;&nbsp;&nbsp;&nbsp;&nbsp;&nbsp;K es el nombre del nodo de donde se obtendra la lista</p>\n",
        "<p><font color=\"pink\" size=\"4\">&nbsp;&nbsp;&nbsp;&nbsp;Entradas del nodo </font> <font size=\"4\">G.predecessors(\"K\")</p>\n",
        "\n",
        "<p><font color=\"pink\" size=\"4\">&nbsp;&nbsp;&nbsp;&nbsp;Salidas del nodo </font><font size=\"4\">G.successors(\"K\")</p>"
      ],
      "metadata": {
        "id": "LzR9irK0uHEl"
      }
    },
    {
      "cell_type": "code",
      "source": [
        "#Uso list para el formato de la impresion\n",
        "#Imprimo la lista de nodos que se conectan con B\n",
        "print(\"Lista de nodos que llevan a B: \",list(G.predecessors(\"B\")))\n",
        "\n",
        "#Imprimo la lista de nodos con los que se conecta B\n",
        "print(\"Lista de nodos que salen de B: \",list(G.successors(\"B\")))"
      ],
      "metadata": {
        "colab": {
          "base_uri": "https://localhost:8080/"
        },
        "id": "nwWxn_jGtqST",
        "outputId": "494b5e4e-93f7-46ed-ae62-c943a0e1b727"
      },
      "execution_count": null,
      "outputs": [
        {
          "output_type": "stream",
          "name": "stdout",
          "text": [
            "Lista de nodos que llevan a B:  ['A']\n",
            "Lista de nodos que salen de B:  ['C', 'D']\n"
          ]
        }
      ]
    },
    {
      "cell_type": "markdown",
      "source": [
        "<p><font color=\"tomato\" size=\"5\">&nbsp;&nbsp;Ejemplo con un grafo dirigido mayor (de 8 nodos)</font></p>\n",
        "\n",
        "<p><font color=\"tomato\" size=\"4\">&nbsp;&nbsp;&nbsp;&nbsp;Otra forma de agragar arcos </font> <font size=\"4\">G.add_edges_from([(\"A\",\"B\"), (\"B\",\"C\"), (\"C\",\"D\")]</p>\n",
        "\n",
        "<p><font size=\"3\">\n",
        "&nbsp;&nbsp;&nbsp;&nbsp;&nbsp;&nbsp;&nbsp;&nbsp;G.add_edges_from() agraga arcos a la red que indiquemos en este caso G</p><p>\n",
        "&nbsp;&nbsp;&nbsp;&nbsp;&nbsp;&nbsp;&nbsp;&nbsp; ([(arco 1),(arco 2),(arco 3)]) se agregan como si fuera un matriz</p><p>\n",
        "&nbsp;&nbsp;&nbsp;&nbsp;&nbsp;&nbsp;&nbsp;&nbsp; (arco 1) el formato es (\"A\",\"B\") indicar los nodos, ya que no pide un flujo</p>"
      ],
      "metadata": {
        "id": "-LcaLUNWsi3m"
      }
    },
    {
      "cell_type": "code",
      "source": [
        "#Creamos un grafo dirigido llamado DI\n",
        "DI=nx.DiGraph()\n",
        "\n",
        "#Añadimos los nodos y los arcos de forma directa\n",
        "DI.add_edges_from([(1, 7), (2, 1), (2, 3), (2, 6),\n",
        "                   (3, 5), (4, 3), (5, 4), (5, 8),\n",
        "                   (6, 4), (7, 2), (7, 6), (8, 7)])\n",
        "  #Indicamos la pareja (1,7), de forma que existe un arco que va de 1 a 7\n",
        "  #Dado que sus nodos son numericos no llevan \"\" (comillas)\n",
        "\n",
        "#Finalmente grafico DI\n",
        "nx.draw_networkx(DI, node_color =\"tomato\")\n",
        "  #Modificamos el color de los nodos a \"tomato\""
      ],
      "metadata": {
        "colab": {
          "base_uri": "https://localhost:8080/",
          "height": 406
        },
        "id": "RknmIzNUcZlF",
        "outputId": "ecbe64c2-10b7-417f-b215-e0ab3a601a55"
      },
      "execution_count": null,
      "outputs": [
        {
          "output_type": "display_data",
          "data": {
            "text/plain": [
              "<Figure size 640x480 with 1 Axes>"
            ],
            "image/png": "[encoded data removed]"
          },
          "metadata": {}
        }
      ]
    },
    {
      "cell_type": "markdown",
      "source": [
        "<p><font color=\"tomato\" size=\"4\">&nbsp;&nbsp;Obtenemos los datos relacionado con el grafo dirigido DI</font></p>"
      ],
      "metadata": {
        "id": "uXDDCvu9xL9S"
      }
    },
    {
      "cell_type": "code",
      "source": [
        "#Datos que podemos obtener del grafo dirigido de 8 nodos\n",
        "\n",
        "#Pedimos a la función que nos de la lista de los nodos que contiene la red\n",
        "print(\"Lista de Nodos que contiene la red: \", list(DI.nodes()))\n",
        "\n",
        "#Pedimos la lista de arcos que contiene la red\n",
        "print(\"Lista de Arcos: \", list(DI.edges()))\n",
        "\n",
        "#Pedimos el numero de nodos\n",
        "print(\"Total de nodes: \", int(DI.number_of_nodes()))\n",
        "\n",
        "#Pedimos el numero de arcos\n",
        "print(\"Total de edges: \", int(DI.number_of_edges()))\n",
        "\n",
        "#Pedimos las entradas de los nodos\n",
        "print(\"In-degree de los nodos: \", dict(DI.in_degree()))\n",
        "\n",
        "#Pedimos las salidas de los nodos\n",
        "print(\"Out degree de los nodos: \", dict(DI.out_degree))\n",
        "\n",
        "#Pedimos la lista de nodos que se conectan con B\n",
        "print(\"Lista de nodos que llevan a B: \",list(DI.predecessors(2)))\n",
        "  #Dado que sus nodos son numericos no llevan \"\" (comillas)\n",
        "\n",
        "#Pedimos la lista de nodos con los que se conecta B\n",
        "print(\"Lista de nodos que salen de B: \",list(DI.successors(2)))\n",
        "  #Dado que sus nodos son numericos no llevan \"\" (comillas)\n"
      ],
      "metadata": {
        "colab": {
          "base_uri": "https://localhost:8080/"
        },
        "id": "Lp9s5mJDuNDC",
        "outputId": "c2c67329-eb69-4a4b-ac90-ca381d4b7505"
      },
      "execution_count": null,
      "outputs": [
        {
          "output_type": "stream",
          "name": "stdout",
          "text": [
            "Lista de Nodos que contiene la red:  [1, 7, 2, 3, 6, 5, 4, 8]\n",
            "Lista de Arcos:  [(1, 7), (7, 2), (7, 6), (2, 1), (2, 3), (2, 6), (3, 5), (6, 4), (5, 4), (5, 8), (4, 3), (8, 7)]\n",
            "Total de nodes:  8\n",
            "Total de edges:  12\n",
            "In-degree de los nodos:  {1: 1, 7: 2, 2: 1, 3: 2, 6: 2, 5: 1, 4: 2, 8: 1}\n",
            "Out degree de los nodos:  {1: 1, 7: 2, 2: 3, 3: 1, 6: 1, 5: 2, 4: 1, 8: 1}\n",
            "Lista de nodos que llevan a B:  [7]\n",
            "Lista de nodos que salen de B:  [1, 3, 6]\n"
          ]
        }
      ]
    }
  ]
}