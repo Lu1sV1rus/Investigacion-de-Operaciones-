{
  "nbformat": 4,
  "nbformat_minor": 0,
  "metadata": {
    "colab": {
      "provenance": [],
      "authorship_tag": "ABX9TyO1PizQblIFt7t/iGn4aETs",
      "include_colab_link": true
    },
    "kernelspec": {
      "name": "python3",
      "display_name": "Python 3"
    },
    "language_info": {
      "name": "python"
    }
  },
  "cells": [
    {
      "cell_type": "markdown",
      "metadata": {
        "id": "view-in-github",
        "colab_type": "text"
      },
      "source": [
        "<a href=\"https://colab.research.google.com/github/Lu1sV1rus/Investigacion-de-Operaciones-/blob/main/modelosderedes1.ipynb\" target=\"_parent\"><img src=\"https://colab.research.google.com/assets/colab-badge.svg\" alt=\"Open In Colab\"/></a>"
      ]
    },
    {
      "cell_type": "markdown",
      "source": [
        "##Dibujo de Redes\n",
        "Usando networkx"
      ],
      "metadata": {
        "id": "KRFeIpiafDfF"
      }
    },
    {
      "cell_type": "code",
      "execution_count": null,
      "metadata": {
        "colab": {
          "base_uri": "https://localhost:8080/"
        },
        "id": "FokpHy4YXbge",
        "outputId": "96fcd477-079b-4d7a-f1ed-9331f99705d2"
      },
      "outputs": [
        {
          "output_type": "stream",
          "name": "stdout",
          "text": [
            "hello world\n"
          ]
        }
      ],
      "source": [
        "print(\"hello world\")\n",
        "#Importamos la librería\n",
        "import networkx as nx"
      ]
    },
    {
      "cell_type": "code",
      "source": [
        "#Creamos un grafo (red) dirigido\n",
        "G=nx.DiGraph()"
      ],
      "metadata": {
        "id": "MiUTzBmkXrS3"
      },
      "execution_count": null,
      "outputs": []
    },
    {
      "cell_type": "code",
      "source": [
        "#Agregamos un arco, y asignamos un flujo con capacity\n",
        "G.add_edge(\"A\",\"C\",capacity=2)\n",
        "G.add_edge(\"A\",\"B\",capacity=2)\n",
        "G.add_edge(\"B\",\"C\",capacity=2)\n",
        "G.add_edge(\"B\",\"D\",capacity=2)\n",
        "G.add_edge(\"C\",\"D\",capacity=2)"
      ],
      "metadata": {
        "id": "LT_8jZjHZtNv"
      },
      "execution_count": null,
      "outputs": []
    },
    {
      "cell_type": "code",
      "source": [
        "#Pedimos que grafique G\n",
        "nx.draw_networkx(G)"
      ],
      "metadata": {
        "colab": {
          "base_uri": "https://localhost:8080/",
          "height": 247
        },
        "id": "w24dl5YPafsG",
        "outputId": "b2812c3e-ab13-46d0-fd9b-2e6af9e652d0"
      },
      "execution_count": null,
      "outputs": [
        {
          "output_type": "display_data",
          "data": {
            "text/plain": [
              "<Figure size 640x480 with 1 Axes>"
            ],
            "image/png": "[encoded data removed]"
          },
          "metadata": {}
        }
      ]
    },
    {
      "cell_type": "code",
      "source": [
        "#Pedimos a la función que nos de la lista de los nodos que contiene la red\n",
        "print(\"Nodos\")\n",
        "nx.nodes(G)"
      ],
      "metadata": {
        "colab": {
          "base_uri": "https://localhost:8080/"
        },
        "id": "NSQJaGjKb1IJ",
        "outputId": "fd689b77-8a93-4878-aa8a-149bc92149b4"
      },
      "execution_count": null,
      "outputs": [
        {
          "output_type": "stream",
          "name": "stdout",
          "text": [
            "Nodos\n"
          ]
        },
        {
          "output_type": "execute_result",
          "data": {
            "text/plain": [
              "NodeView(('A', 'C', 'B', 'D'))"
            ]
          },
          "metadata": {},
          "execution_count": 71
        }
      ]
    },
    {
      "cell_type": "code",
      "source": [
        "#Pedimos la lista de arcos que contiene la red\n",
        "print(\"Arcos\")\n",
        "nx.edges(G)"
      ],
      "metadata": {
        "colab": {
          "base_uri": "https://localhost:8080/"
        },
        "id": "RknmIzNUcZlF",
        "outputId": "17df6b07-05a1-408d-e6f6-05a1b091b542"
      },
      "execution_count": null,
      "outputs": [
        {
          "output_type": "stream",
          "name": "stdout",
          "text": [
            "Arcos\n"
          ]
        },
        {
          "output_type": "execute_result",
          "data": {
            "text/plain": [
              "OutEdgeView([('A', 'C'), ('A', 'B'), ('C', 'D'), ('B', 'C'), ('B', 'D')])"
            ]
          },
          "metadata": {},
          "execution_count": 58
        }
      ]
    }
  ]
}